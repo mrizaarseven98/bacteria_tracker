import numpy as np
import cv2
from PIL import Image
import pandas as pd
from skimage.io import imsave,imread,imshow,show
import matplotlib.pyplot as plt
#import trackpy as tp
#Change to your file destination
df = pd.read_csv(r"example_tracking_data.csv")
display(df)
#tp.filter_stubs("Your DataFrame, threshold="100)

def calculate_average_angle(dataframe):
    frames_column = dataframe['frame'].astype(int)  # Replace 'Frames' with your actual column name
    angles_column = dataframe['angle']  # Replace 'Column11' with your actual column name for values

    unique_frames = np.unique(frames_column)

    average_angles = []
    for frame in unique_frames:
        frame_values = angles_column[frames_column == frame]
        average_angle = np.mean(frame_values)
        average_angles.append(average_angle)

    return unique_frames, average_angles

frames, average_angles = calculate_average_angle(df)

def calculate_average_angle(matrix):
    frames_column = matrix['frame'].astype(int)
    angles_column = matrix['angle']

    unique_frames = np.unique(frames_column)

    average_angles = []
    for frame in unique_frames:
        frame_values = angles_column[frames_column == frame]
        average_angle = np.mean(frame_values)
        average_angles.extend([average_angle] * len(frame_values))

    return unique_frames, average_angles
import numpy as np

import numpy as np

def calculate_nematic_angles(matrix):
    frames_column = matrix['frame'].astype(int)
    particle_ids_column = matrix['particle'].astype(int)
    angles_column = matrix['angle']

    unique_frames, average_angles = calculate_average_angle(matrix)

    nematic_order_values = []

    for frame in unique_frames:
        frame_nematic_angles = []

        for particle_id in np.unique(particle_ids_column):
            current_particle_indices = np.where((frames_column == frame) & (particle_ids_column == particle_id))[0]

            nematic_angles = []

            for index in current_particle_indices:
                nematic_angle = np.cos(angles_column[index] - average_angles[index])
                nematic_angles.append(nematic_angle)

            # Append nematic angles for the current particle
            frame_nematic_angles.extend(nematic_angles)

        # Calculate mean nematic order for the current frame
        mean_nematic_angle = np.mean(frame_nematic_angles)
        nematic_order = 2 * np.abs(mean_nematic_angle)
        nematic_order_values.append(nematic_order)

    return unique_frames, nematic_order_values



# Example usage:
# Assuming 'your_matrix' is your input matrix
display(df)
frames, nematic_angles = calculate_nematic_angles(df)


# Now, 'frames' contains unique frames, and 'nematic_angles' contains the corresponding nematic angles
print(nematic_angles)

nematic_angles_mean=np.mean(nematic_angles)
print(nematic_angles_mean)

plt.scatter(frames, nematic_angles, marker='o')
plt.xlabel('Frame')
plt.ylabel('Nematic Order Parameter')
plt.title('Nematic Order Parameter vs. Frame')
plt.grid(True)
plt.show()
